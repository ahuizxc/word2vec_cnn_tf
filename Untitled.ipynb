{
 "cells": [
  {
   "cell_type": "code",
   "execution_count": 5,
   "metadata": {},
   "outputs": [],
   "source": [
    "from gensim.models import word2vec\n",
    "import logging\n",
    "\n",
    "from gensim.models.keyedvectors import KeyedVectors\n",
    "from gensim.models import word2vec"
   ]
  },
  {
   "cell_type": "code",
   "execution_count": 6,
   "metadata": {},
   "outputs": [
    {
     "name": "stderr",
     "output_type": "stream",
     "text": [
      "2019-04-21 12:37:01,474 : INFO : collecting all words and their counts\n",
      "2019-04-21 12:37:01,486 : INFO : PROGRESS: at sentence #0, processed 0 words, keeping 0 word types\n",
      "2019-04-21 12:37:06,810 : INFO : collected 253854 word types from a corpus of 17005207 raw words and 1701 sentences\n",
      "2019-04-21 12:37:06,810 : INFO : Loading a fresh vocabulary\n",
      "2019-04-21 12:37:07,085 : INFO : min_count=5 retains 71290 unique words (28% of original 253854, drops 182564)\n",
      "2019-04-21 12:37:07,086 : INFO : min_count=5 leaves 16718844 word corpus (98% of original 17005207, drops 286363)\n",
      "2019-04-21 12:37:07,286 : INFO : deleting the raw counts dictionary of 253854 items\n",
      "2019-04-21 12:37:07,295 : INFO : sample=0.001 downsamples 38 most-common words\n",
      "2019-04-21 12:37:07,297 : INFO : downsampling leaves estimated 12506280 word corpus (74.8% of prior 16718844)\n",
      "2019-04-21 12:37:07,518 : INFO : estimated required memory for 71290 words and 200 dimensions: 149709000 bytes\n",
      "2019-04-21 12:37:07,519 : INFO : resetting layer weights\n",
      "2019-04-21 12:37:08,378 : INFO : training model with 3 workers on 71290 vocabulary and 200 features, using sg=0 hs=0 sample=0.001 negative=5 window=5\n",
      "2019-04-21 12:37:09,387 : INFO : EPOCH 1 - PROGRESS: at 5.00% examples, 622206 words/s, in_qsize 5, out_qsize 0\n",
      "2019-04-21 12:37:10,392 : INFO : EPOCH 1 - PROGRESS: at 10.52% examples, 650093 words/s, in_qsize 5, out_qsize 0\n",
      "2019-04-21 12:37:11,406 : INFO : EPOCH 1 - PROGRESS: at 16.34% examples, 672112 words/s, in_qsize 5, out_qsize 0\n",
      "2019-04-21 12:37:12,414 : INFO : EPOCH 1 - PROGRESS: at 22.46% examples, 693854 words/s, in_qsize 5, out_qsize 0\n",
      "2019-04-21 12:37:13,416 : INFO : EPOCH 1 - PROGRESS: at 28.51% examples, 708036 words/s, in_qsize 5, out_qsize 0\n",
      "2019-04-21 12:37:14,419 : INFO : EPOCH 1 - PROGRESS: at 34.57% examples, 717523 words/s, in_qsize 5, out_qsize 0\n",
      "2019-04-21 12:37:15,421 : INFO : EPOCH 1 - PROGRESS: at 40.74% examples, 725357 words/s, in_qsize 5, out_qsize 0\n",
      "2019-04-21 12:37:16,432 : INFO : EPOCH 1 - PROGRESS: at 46.15% examples, 718627 words/s, in_qsize 5, out_qsize 0\n",
      "2019-04-21 12:37:17,441 : INFO : EPOCH 1 - PROGRESS: at 51.50% examples, 712791 words/s, in_qsize 6, out_qsize 0\n",
      "2019-04-21 12:37:18,445 : INFO : EPOCH 1 - PROGRESS: at 57.61% examples, 717996 words/s, in_qsize 5, out_qsize 0\n",
      "2019-04-21 12:37:19,449 : INFO : EPOCH 1 - PROGRESS: at 64.37% examples, 729602 words/s, in_qsize 5, out_qsize 0\n",
      "2019-04-21 12:37:20,454 : INFO : EPOCH 1 - PROGRESS: at 71.08% examples, 738515 words/s, in_qsize 6, out_qsize 0\n",
      "2019-04-21 12:37:21,456 : INFO : EPOCH 1 - PROGRESS: at 78.19% examples, 748721 words/s, in_qsize 5, out_qsize 0\n",
      "2019-04-21 12:37:22,463 : INFO : EPOCH 1 - PROGRESS: at 85.30% examples, 758146 words/s, in_qsize 5, out_qsize 0\n",
      "2019-04-21 12:37:23,494 : INFO : EPOCH 1 - PROGRESS: at 90.65% examples, 750887 words/s, in_qsize 5, out_qsize 0\n",
      "2019-04-21 12:37:24,498 : INFO : EPOCH 1 - PROGRESS: at 96.65% examples, 750283 words/s, in_qsize 5, out_qsize 0\n",
      "2019-04-21 12:37:25,030 : INFO : worker thread finished; awaiting finish of 2 more threads\n",
      "2019-04-21 12:37:25,042 : INFO : worker thread finished; awaiting finish of 1 more threads\n",
      "2019-04-21 12:37:25,045 : INFO : worker thread finished; awaiting finish of 0 more threads\n",
      "2019-04-21 12:37:25,046 : INFO : EPOCH - 1 : training on 17005207 raw words (12506106 effective words) took 16.7s, 750526 effective words/s\n",
      "2019-04-21 12:37:26,052 : INFO : EPOCH 2 - PROGRESS: at 6.17% examples, 764443 words/s, in_qsize 5, out_qsize 0\n",
      "2019-04-21 12:37:27,057 : INFO : EPOCH 2 - PROGRESS: at 10.88% examples, 671740 words/s, in_qsize 5, out_qsize 0\n",
      "2019-04-21 12:37:28,065 : INFO : EPOCH 2 - PROGRESS: at 16.93% examples, 698287 words/s, in_qsize 5, out_qsize 0\n",
      "2019-04-21 12:37:29,077 : INFO : EPOCH 2 - PROGRESS: at 22.81% examples, 705754 words/s, in_qsize 5, out_qsize 0\n",
      "2019-04-21 12:37:30,079 : INFO : EPOCH 2 - PROGRESS: at 28.87% examples, 717365 words/s, in_qsize 4, out_qsize 0\n",
      "2019-04-21 12:37:31,079 : INFO : EPOCH 2 - PROGRESS: at 33.92% examples, 704640 words/s, in_qsize 5, out_qsize 0\n",
      "2019-04-21 12:37:32,098 : INFO : EPOCH 2 - PROGRESS: at 39.45% examples, 701410 words/s, in_qsize 5, out_qsize 0\n",
      "2019-04-21 12:37:33,099 : INFO : EPOCH 2 - PROGRESS: at 45.50% examples, 708624 words/s, in_qsize 5, out_qsize 0\n",
      "2019-04-21 12:37:34,104 : INFO : EPOCH 2 - PROGRESS: at 51.50% examples, 713010 words/s, in_qsize 5, out_qsize 0\n",
      "2019-04-21 12:37:35,105 : INFO : EPOCH 2 - PROGRESS: at 56.91% examples, 709778 words/s, in_qsize 5, out_qsize 0\n",
      "2019-04-21 12:37:36,106 : INFO : EPOCH 2 - PROGRESS: at 62.14% examples, 704861 words/s, in_qsize 5, out_qsize 0\n",
      "2019-04-21 12:37:37,108 : INFO : EPOCH 2 - PROGRESS: at 67.25% examples, 699390 words/s, in_qsize 5, out_qsize 0\n",
      "2019-04-21 12:37:38,114 : INFO : EPOCH 2 - PROGRESS: at 72.66% examples, 697594 words/s, in_qsize 5, out_qsize 0\n",
      "2019-04-21 12:37:39,127 : INFO : EPOCH 2 - PROGRESS: at 78.60% examples, 698981 words/s, in_qsize 6, out_qsize 0\n",
      "2019-04-21 12:37:40,135 : INFO : EPOCH 2 - PROGRESS: at 84.71% examples, 702792 words/s, in_qsize 5, out_qsize 0\n",
      "2019-04-21 12:37:41,147 : INFO : EPOCH 2 - PROGRESS: at 91.01% examples, 707572 words/s, in_qsize 5, out_qsize 0\n",
      "2019-04-21 12:37:42,152 : INFO : EPOCH 2 - PROGRESS: at 97.30% examples, 711632 words/s, in_qsize 6, out_qsize 0\n",
      "2019-04-21 12:37:42,559 : INFO : worker thread finished; awaiting finish of 2 more threads\n",
      "2019-04-21 12:37:42,567 : INFO : worker thread finished; awaiting finish of 1 more threads\n",
      "2019-04-21 12:37:42,575 : INFO : worker thread finished; awaiting finish of 0 more threads\n",
      "2019-04-21 12:37:42,576 : INFO : EPOCH - 2 : training on 17005207 raw words (12506698 effective words) took 17.5s, 713549 effective words/s\n",
      "2019-04-21 12:37:43,586 : INFO : EPOCH 3 - PROGRESS: at 6.23% examples, 769109 words/s, in_qsize 5, out_qsize 0\n",
      "2019-04-21 12:37:44,590 : INFO : EPOCH 3 - PROGRESS: at 12.46% examples, 769467 words/s, in_qsize 5, out_qsize 0\n",
      "2019-04-21 12:37:45,594 : INFO : EPOCH 3 - PROGRESS: at 18.75% examples, 774229 words/s, in_qsize 6, out_qsize 0\n",
      "2019-04-21 12:37:46,598 : INFO : EPOCH 3 - PROGRESS: at 24.57% examples, 762794 words/s, in_qsize 6, out_qsize 0\n",
      "2019-04-21 12:37:47,606 : INFO : EPOCH 3 - PROGRESS: at 30.81% examples, 766813 words/s, in_qsize 4, out_qsize 0\n",
      "2019-04-21 12:37:48,613 : INFO : EPOCH 3 - PROGRESS: at 36.92% examples, 766964 words/s, in_qsize 4, out_qsize 1\n",
      "2019-04-21 12:37:49,628 : INFO : EPOCH 3 - PROGRESS: at 43.15% examples, 767482 words/s, in_qsize 5, out_qsize 0\n",
      "2019-04-21 12:37:50,628 : INFO : EPOCH 3 - PROGRESS: at 49.32% examples, 768399 words/s, in_qsize 5, out_qsize 0\n",
      "2019-04-21 12:37:51,633 : INFO : EPOCH 3 - PROGRESS: at 55.56% examples, 769678 words/s, in_qsize 5, out_qsize 0\n",
      "2019-04-21 12:37:52,635 : INFO : EPOCH 3 - PROGRESS: at 61.73% examples, 769975 words/s, in_qsize 5, out_qsize 0\n",
      "2019-04-21 12:37:53,638 : INFO : EPOCH 3 - PROGRESS: at 67.96% examples, 770746 words/s, in_qsize 5, out_qsize 0\n",
      "2019-04-21 12:37:54,640 : INFO : EPOCH 3 - PROGRESS: at 74.19% examples, 771673 words/s, in_qsize 5, out_qsize 0\n",
      "2019-04-21 12:37:55,641 : INFO : EPOCH 3 - PROGRESS: at 80.60% examples, 772434 words/s, in_qsize 5, out_qsize 0\n",
      "2019-04-21 12:37:56,646 : INFO : EPOCH 3 - PROGRESS: at 86.89% examples, 773021 words/s, in_qsize 5, out_qsize 0\n",
      "2019-04-21 12:37:57,657 : INFO : EPOCH 3 - PROGRESS: at 93.12% examples, 772801 words/s, in_qsize 5, out_qsize 0\n",
      "2019-04-21 12:37:58,663 : INFO : EPOCH 3 - PROGRESS: at 99.35% examples, 772663 words/s, in_qsize 6, out_qsize 0\n",
      "2019-04-21 12:37:58,743 : INFO : worker thread finished; awaiting finish of 2 more threads\n",
      "2019-04-21 12:37:58,755 : INFO : worker thread finished; awaiting finish of 1 more threads\n",
      "2019-04-21 12:37:58,761 : INFO : worker thread finished; awaiting finish of 0 more threads\n",
      "2019-04-21 12:37:58,762 : INFO : EPOCH - 3 : training on 17005207 raw words (12506713 effective words) took 16.2s, 772826 effective words/s\n",
      "2019-04-21 12:37:59,772 : INFO : EPOCH 4 - PROGRESS: at 6.29% examples, 777723 words/s, in_qsize 5, out_qsize 0\n",
      "2019-04-21 12:38:00,774 : INFO : EPOCH 4 - PROGRESS: at 12.29% examples, 760670 words/s, in_qsize 5, out_qsize 0\n",
      "2019-04-21 12:38:01,775 : INFO : EPOCH 4 - PROGRESS: at 18.58% examples, 768690 words/s, in_qsize 5, out_qsize 0\n"
     ]
    },
    {
     "name": "stderr",
     "output_type": "stream",
     "text": [
      "2019-04-21 12:38:02,776 : INFO : EPOCH 4 - PROGRESS: at 24.75% examples, 770051 words/s, in_qsize 5, out_qsize 0\n",
      "2019-04-21 12:38:03,784 : INFO : EPOCH 4 - PROGRESS: at 30.98% examples, 772891 words/s, in_qsize 5, out_qsize 0\n",
      "2019-04-21 12:38:04,790 : INFO : EPOCH 4 - PROGRESS: at 37.15% examples, 773320 words/s, in_qsize 5, out_qsize 0\n",
      "2019-04-21 12:38:05,800 : INFO : EPOCH 4 - PROGRESS: at 43.39% examples, 773425 words/s, in_qsize 5, out_qsize 0\n",
      "2019-04-21 12:38:06,808 : INFO : EPOCH 4 - PROGRESS: at 49.56% examples, 772896 words/s, in_qsize 5, out_qsize 0\n",
      "2019-04-21 12:38:07,811 : INFO : EPOCH 4 - PROGRESS: at 55.85% examples, 774605 words/s, in_qsize 5, out_qsize 0\n",
      "2019-04-21 12:38:08,814 : INFO : EPOCH 4 - PROGRESS: at 61.96% examples, 773581 words/s, in_qsize 5, out_qsize 0\n",
      "2019-04-21 12:38:09,823 : INFO : EPOCH 4 - PROGRESS: at 68.20% examples, 773604 words/s, in_qsize 5, out_qsize 0\n",
      "2019-04-21 12:38:10,834 : INFO : EPOCH 4 - PROGRESS: at 74.43% examples, 773764 words/s, in_qsize 5, out_qsize 0\n",
      "2019-04-21 12:38:11,839 : INFO : EPOCH 4 - PROGRESS: at 80.83% examples, 774121 words/s, in_qsize 5, out_qsize 0\n",
      "2019-04-21 12:38:12,849 : INFO : EPOCH 4 - PROGRESS: at 87.13% examples, 774390 words/s, in_qsize 5, out_qsize 0\n",
      "2019-04-21 12:38:13,858 : INFO : EPOCH 4 - PROGRESS: at 93.42% examples, 774608 words/s, in_qsize 5, out_qsize 0\n",
      "2019-04-21 12:38:14,864 : INFO : EPOCH 4 - PROGRESS: at 99.59% examples, 773978 words/s, in_qsize 5, out_qsize 0\n",
      "2019-04-21 12:38:14,904 : INFO : worker thread finished; awaiting finish of 2 more threads\n",
      "2019-04-21 12:38:14,912 : INFO : worker thread finished; awaiting finish of 1 more threads\n",
      "2019-04-21 12:38:14,917 : INFO : worker thread finished; awaiting finish of 0 more threads\n",
      "2019-04-21 12:38:14,918 : INFO : EPOCH - 4 : training on 17005207 raw words (12507600 effective words) took 16.2s, 774418 effective words/s\n",
      "2019-04-21 12:38:15,928 : INFO : EPOCH 5 - PROGRESS: at 6.29% examples, 776031 words/s, in_qsize 5, out_qsize 0\n",
      "2019-04-21 12:38:16,932 : INFO : EPOCH 5 - PROGRESS: at 12.58% examples, 776945 words/s, in_qsize 5, out_qsize 0\n",
      "2019-04-21 12:38:17,938 : INFO : EPOCH 5 - PROGRESS: at 18.87% examples, 778535 words/s, in_qsize 5, out_qsize 0\n",
      "2019-04-21 12:38:18,943 : INFO : EPOCH 5 - PROGRESS: at 25.16% examples, 780416 words/s, in_qsize 4, out_qsize 0\n",
      "2019-04-21 12:38:19,945 : INFO : EPOCH 5 - PROGRESS: at 31.22% examples, 777749 words/s, in_qsize 5, out_qsize 0\n",
      "2019-04-21 12:38:20,962 : INFO : EPOCH 5 - PROGRESS: at 37.51% examples, 778128 words/s, in_qsize 5, out_qsize 0\n",
      "2019-04-21 12:38:21,969 : INFO : EPOCH 5 - PROGRESS: at 43.74% examples, 777931 words/s, in_qsize 4, out_qsize 0\n",
      "2019-04-21 12:38:22,985 : INFO : EPOCH 5 - PROGRESS: at 49.91% examples, 776179 words/s, in_qsize 5, out_qsize 0\n",
      "2019-04-21 12:38:23,994 : INFO : EPOCH 5 - PROGRESS: at 55.50% examples, 767271 words/s, in_qsize 4, out_qsize 1\n",
      "2019-04-21 12:38:24,998 : INFO : EPOCH 5 - PROGRESS: at 60.38% examples, 751595 words/s, in_qsize 5, out_qsize 0\n",
      "2019-04-21 12:38:26,002 : INFO : EPOCH 5 - PROGRESS: at 65.26% examples, 738608 words/s, in_qsize 5, out_qsize 0\n",
      "2019-04-21 12:38:27,013 : INFO : EPOCH 5 - PROGRESS: at 69.84% examples, 724358 words/s, in_qsize 5, out_qsize 0\n",
      "2019-04-21 12:38:28,020 : INFO : EPOCH 5 - PROGRESS: at 74.96% examples, 717590 words/s, in_qsize 5, out_qsize 0\n",
      "2019-04-21 12:38:29,025 : INFO : EPOCH 5 - PROGRESS: at 79.72% examples, 707634 words/s, in_qsize 5, out_qsize 0\n",
      "2019-04-21 12:38:30,030 : INFO : EPOCH 5 - PROGRESS: at 84.95% examples, 703723 words/s, in_qsize 5, out_qsize 0\n",
      "2019-04-21 12:38:31,031 : INFO : EPOCH 5 - PROGRESS: at 90.59% examples, 703949 words/s, in_qsize 5, out_qsize 0\n",
      "2019-04-21 12:38:32,045 : INFO : EPOCH 5 - PROGRESS: at 96.41% examples, 704452 words/s, in_qsize 5, out_qsize 0\n",
      "2019-04-21 12:38:32,753 : INFO : worker thread finished; awaiting finish of 2 more threads\n",
      "2019-04-21 12:38:32,762 : INFO : worker thread finished; awaiting finish of 1 more threads\n",
      "2019-04-21 12:38:32,771 : INFO : worker thread finished; awaiting finish of 0 more threads\n",
      "2019-04-21 12:38:32,772 : INFO : EPOCH - 5 : training on 17005207 raw words (12506615 effective words) took 17.9s, 700607 effective words/s\n",
      "2019-04-21 12:38:32,774 : INFO : training on a 85026035 raw words (62533732 effective words) took 84.4s, 740972 effective words/s\n",
      "2019-04-21 12:38:32,778 : INFO : saving Word2Vec object under text8.model, separately None\n",
      "2019-04-21 12:38:32,779 : INFO : storing np array 'vectors' to text8.model.wv.vectors.npy\n",
      "2019-04-21 12:38:32,899 : INFO : not storing attribute vectors_norm\n",
      "2019-04-21 12:38:32,900 : INFO : storing np array 'syn1neg' to text8.model.trainables.syn1neg.npy\n",
      "2019-04-21 12:38:33,039 : INFO : not storing attribute cum_table\n",
      "2019-04-21 12:38:33,264 : INFO : saved text8.model\n"
     ]
    }
   ],
   "source": [
    "logging.basicConfig(format='%(asctime)s : %(levelname)s : %(message)s', level=logging.INFO)\n",
    "sentences = word2vec.Text8Corpus(\"./text8\") \n",
    "model = word2vec.Word2Vec(sentences, size=200) \n",
    "model.save(\"text8.model\")"
   ]
  },
  {
   "cell_type": "code",
   "execution_count": 7,
   "metadata": {},
   "outputs": [
    {
     "name": "stderr",
     "output_type": "stream",
     "text": [
      "2019-04-21 12:38:43,195 : INFO : loading Word2VecKeyedVectors object from text8.model\n",
      "2019-04-21 12:38:43,418 : INFO : loading wv recursively from text8.model.wv.* with mmap=None\n",
      "2019-04-21 12:38:43,418 : INFO : loading vectors from text8.model.wv.vectors.npy with mmap=None\n",
      "2019-04-21 12:38:43,482 : INFO : setting ignored attribute vectors_norm to None\n",
      "2019-04-21 12:38:43,483 : INFO : loading vocabulary recursively from text8.model.vocabulary.* with mmap=None\n",
      "2019-04-21 12:38:43,484 : INFO : loading trainables recursively from text8.model.trainables.* with mmap=None\n",
      "2019-04-21 12:38:43,485 : INFO : loading syn1neg from text8.model.trainables.syn1neg.npy with mmap=None\n",
      "2019-04-21 12:38:43,548 : INFO : setting ignored attribute cum_table to None\n",
      "2019-04-21 12:38:43,549 : INFO : loaded text8.model\n"
     ]
    },
    {
     "name": "stdout",
     "output_type": "stream",
     "text": [
      "[-7.8089195e-01 -1.0766909e+00  1.8437138e+00 -2.8675194e+00\n",
      "  9.4388919e-03 -2.5714681e-01  3.8816254e+00 -3.3700397e+00\n",
      " -1.9678273e+00 -7.7986014e-01  8.6687841e-02  9.6048403e-01\n",
      " -1.4062444e+00  4.7082904e-01  2.8202736e-01 -1.1985145e+00\n",
      " -1.2181914e+00 -1.1511221e+00 -1.0555853e+00  7.6226199e-01\n",
      "  1.7556459e+00  1.6373191e+00 -1.4662801e-01  8.2347167e-01\n",
      "  1.6590967e+00  7.8730345e-01  1.2469670e+00 -1.4099587e+00\n",
      "  1.5407820e+00  1.0664575e-01  1.3104678e+00  3.9375064e-01\n",
      " -1.8203977e-01 -1.4259204e+00 -2.0536690e-03  2.4376129e-01\n",
      " -5.6892240e-01  1.0546496e+00  6.9702429e-01 -1.4641650e+00\n",
      "  4.3487874e-01 -1.0165086e+00 -2.0962143e-01 -1.7510396e+00\n",
      " -3.5437590e-01 -8.9775562e-01 -1.1066024e+00  6.9565159e-01\n",
      " -1.5587328e-01  9.2149997e-01  2.7027783e-01  1.4367249e+00\n",
      " -5.2636707e-01  3.3873114e-01  2.4868360e+00  1.5290624e-01\n",
      "  1.3517981e+00  1.2886727e+00 -9.1989291e-01 -9.0166736e-01\n",
      "  5.8589703e-01  1.9570915e+00 -9.9578059e-01 -1.3022900e+00\n",
      "  6.8760836e-01 -1.2713189e+00  6.4671427e-01 -1.9038638e+00\n",
      "  2.1409473e+00  8.8645887e-01 -1.2499801e+00 -6.7823440e-01\n",
      " -1.0841426e+00 -2.6312345e-01  1.4425342e-01 -1.2168200e-01\n",
      "  7.9554927e-01 -1.8796500e+00 -1.3985811e+00 -8.9509666e-01\n",
      "  1.0489316e+00  8.6761236e-01 -1.0436743e+00  2.6902655e-01\n",
      "  5.0781566e-01 -9.6345305e-01 -1.2348143e+00 -1.2740427e+00\n",
      " -2.1856017e+00 -1.1380442e+00  1.1241959e-01  4.8438337e-01\n",
      " -4.4422179e-01  3.9090940e-01 -1.5543556e+00  1.6990179e-01\n",
      " -1.2763449e+00  6.1452788e-01  1.2150003e+00 -5.5895400e-01\n",
      " -8.3193213e-01  6.8114787e-01  7.0429212e-01 -6.6434932e-01\n",
      " -4.8883250e-01 -7.6113242e-01 -1.9643482e+00 -2.0865481e+00\n",
      " -7.4012458e-01  9.8772824e-01  3.0550203e-01  1.3649223e+00\n",
      " -6.6359192e-01 -8.7976903e-01 -3.7086364e-02 -1.2567961e+00\n",
      "  2.3965266e-01 -1.3374535e+00  4.0488824e-01  4.6760142e-02\n",
      " -7.6309586e-01 -1.0374817e+00  1.0835893e-02  1.0033609e+00\n",
      "  1.7967017e+00  8.7179822e-01  5.9868640e-01 -1.1811568e+00\n",
      "  5.1215577e-01  6.4005964e-02  1.1915039e+00 -6.6267747e-01\n",
      " -2.5573192e+00  2.0599668e+00 -9.6768445e-01  2.1469984e+00\n",
      " -2.7666810e-01  1.9826844e-01  5.5037183e-01  1.2674974e+00\n",
      " -1.5418900e-02  3.3940014e-01  9.5352757e-01  5.5592954e-01\n",
      "  4.8223522e-01  1.6406273e+00 -6.0280800e-01 -1.3868343e+00\n",
      "  1.4088579e+00  1.4775673e-01 -1.2751858e+00 -3.9982063e-01\n",
      "  9.4763368e-01  1.1858099e+00  6.2462825e-01  1.6254067e+00\n",
      "  1.0358609e+00 -1.7050999e+00  1.1802486e+00 -1.1714686e+00\n",
      " -3.6207955e-02 -1.1549947e+00 -7.6720387e-02  1.1271640e+00\n",
      " -3.7748885e-01  2.3927031e-01  1.2217588e+00 -2.9339775e-01\n",
      "  2.7718073e-01 -2.4240415e+00  1.2954752e+00  4.1783208e-01\n",
      "  4.4766939e-01 -2.2574188e-01  8.3974290e-01  9.4703782e-01\n",
      " -8.7888640e-01 -4.9313474e-01 -2.4347129e+00 -2.4337788e+00\n",
      "  4.1117287e-01 -5.2975285e-01  5.6997758e-01 -6.5666294e-01\n",
      " -5.6404322e-02  8.3383226e-01 -1.2380567e+00  1.2028130e+00\n",
      " -1.4589250e-01  3.2224185e+00 -6.0833359e-01 -9.8307562e-01\n",
      "  7.3863369e-01 -1.0690724e+00  5.8525588e-02 -7.0980006e-01\n",
      "  2.3208964e+00  1.9242144e-01 -1.0613053e+00 -6.8353228e-02]\n"
     ]
    },
    {
     "name": "stderr",
     "output_type": "stream",
     "text": [
      "/Users/liushenghui/anaconda3/lib/python3.6/site-packages/ipykernel_launcher.py:4: DeprecationWarning: Call to deprecated `__getitem__` (Method will be removed in 4.0.0, use self.wv.__getitem__() instead).\n",
      "  after removing the cwd from sys.path.\n"
     ]
    }
   ],
   "source": [
    "\n",
    "model = KeyedVectors.load(\"text8.model\")\n",
    "\n",
    "print(model['word'])"
   ]
  },
  {
   "cell_type": "code",
   "execution_count": 9,
   "metadata": {},
   "outputs": [
    {
     "name": "stderr",
     "output_type": "stream",
     "text": [
      "/Users/liushenghui/anaconda3/lib/python3.6/site-packages/ipykernel_launcher.py:1: DeprecationWarning: Call to deprecated `sample` (Attribute will be removed in 4.0.0, use self.vocabulary.sample instead).\n",
      "  \"\"\"Entry point for launching an IPython kernel.\n"
     ]
    },
    {
     "data": {
      "text/plain": [
       "0.001"
      ]
     },
     "execution_count": 9,
     "metadata": {},
     "output_type": "execute_result"
    }
   ],
   "source": [
    "model.sample"
   ]
  }
 ],
 "metadata": {
  "kernelspec": {
   "display_name": "Python 3",
   "language": "python",
   "name": "python3"
  },
  "language_info": {
   "codemirror_mode": {
    "name": "ipython",
    "version": 3
   },
   "file_extension": ".py",
   "mimetype": "text/x-python",
   "name": "python",
   "nbconvert_exporter": "python",
   "pygments_lexer": "ipython3",
   "version": "3.6.4"
  }
 },
 "nbformat": 4,
 "nbformat_minor": 2
}
